{
  "nbformat": 4,
  "nbformat_minor": 0,
  "metadata": {
    "colab": {
      "provenance": []
    },
    "kernelspec": {
      "name": "python3",
      "display_name": "Python 3"
    },
    "language_info": {
      "name": "python"
    }
  },
  "cells": [
    {
      "cell_type": "code",
      "execution_count": 3,
      "metadata": {
        "id": "mr2iUNwQCP1-"
      },
      "outputs": [],
      "source": [
        "import numpy as np"
      ]
    },
    {
      "cell_type": "code",
      "source": [
        "# Retail dataset as numpy array\n",
        "\n",
        "retail_np_array = np.array([\n",
        "    [1001, \"Laptop\", 1, 50000, 50000],\n",
        "    [1002, \"Mouse\", 2, 500, 1000],\n",
        "    [1003, \"Keyboard\", 1, 1000, 1000],\n",
        "    [1004, \"Monitor\", 2, 7000, 14000],\n",
        "    [1005, \"Headphones\", 1, 2000, 2000]\n",
        "], dtype=object)\n",
        "\n",
        "retail_np_array"
      ],
      "metadata": {
        "colab": {
          "base_uri": "https://localhost:8080/"
        },
        "id": "hL7JfzMsCccy",
        "outputId": "7fa7d56a-a784-404c-a2d6-ae5de4aa9933"
      },
      "execution_count": 4,
      "outputs": [
        {
          "output_type": "execute_result",
          "data": {
            "text/plain": [
              "array([[1001, 'Laptop', 1, 50000, 50000],\n",
              "       [1002, 'Mouse', 2, 500, 1000],\n",
              "       [1003, 'Keyboard', 1, 1000, 1000],\n",
              "       [1004, 'Monitor', 2, 7000, 14000],\n",
              "       [1005, 'Headphones', 1, 2000, 2000]], dtype=object)"
            ]
          },
          "metadata": {},
          "execution_count": 4
        }
      ]
    },
    {
      "cell_type": "code",
      "source": [
        "# Extracting columns\n",
        "\n",
        "customer_ids = retail_np_array[:, 0]\n",
        "\n",
        "products = retail_np_array[:, 1]\n",
        "\n",
        "quantities = retail_np_array[:, 2].astype(int)\n",
        "\n",
        "prices = retail_np_array[:, 3].astype(int)\n",
        "\n",
        "totals = retail_np_array[:, 4].astype(int)\n"
      ],
      "metadata": {
        "id": "niO75RCPDPr6"
      },
      "execution_count": 5,
      "outputs": []
    },
    {
      "cell_type": "code",
      "source": [
        "customer_ids"
      ],
      "metadata": {
        "colab": {
          "base_uri": "https://localhost:8080/"
        },
        "id": "F3H-rAm6DzQ6",
        "outputId": "06d28ed8-bcab-4a08-9087-fa0ae0ed6818"
      },
      "execution_count": 6,
      "outputs": [
        {
          "output_type": "execute_result",
          "data": {
            "text/plain": [
              "array([1001, 1002, 1003, 1004, 1005], dtype=object)"
            ]
          },
          "metadata": {},
          "execution_count": 6
        }
      ]
    },
    {
      "cell_type": "code",
      "source": [
        "products"
      ],
      "metadata": {
        "colab": {
          "base_uri": "https://localhost:8080/"
        },
        "id": "cabiHY-3D6Zd",
        "outputId": "d3b5dc50-90e9-479a-a0f7-61785f3a9b19"
      },
      "execution_count": 7,
      "outputs": [
        {
          "output_type": "execute_result",
          "data": {
            "text/plain": [
              "array(['Laptop', 'Mouse', 'Keyboard', 'Monitor', 'Headphones'],\n",
              "      dtype=object)"
            ]
          },
          "metadata": {},
          "execution_count": 7
        }
      ]
    },
    {
      "cell_type": "code",
      "source": [
        "quantities"
      ],
      "metadata": {
        "colab": {
          "base_uri": "https://localhost:8080/"
        },
        "id": "AE_1WR7qEAsz",
        "outputId": "1013bb14-7213-43ab-b429-19aaa14f9157"
      },
      "execution_count": 8,
      "outputs": [
        {
          "output_type": "execute_result",
          "data": {
            "text/plain": [
              "array([1, 2, 1, 2, 1])"
            ]
          },
          "metadata": {},
          "execution_count": 8
        }
      ]
    },
    {
      "cell_type": "code",
      "source": [
        "prices"
      ],
      "metadata": {
        "colab": {
          "base_uri": "https://localhost:8080/"
        },
        "id": "C9cUHnrcEEAI",
        "outputId": "6039642a-7ac0-4405-83ef-636a88dccfc8"
      },
      "execution_count": 9,
      "outputs": [
        {
          "output_type": "execute_result",
          "data": {
            "text/plain": [
              "array([50000,   500,  1000,  7000,  2000])"
            ]
          },
          "metadata": {},
          "execution_count": 9
        }
      ]
    },
    {
      "cell_type": "code",
      "source": [
        "totals"
      ],
      "metadata": {
        "colab": {
          "base_uri": "https://localhost:8080/"
        },
        "id": "gHhARshPEQK5",
        "outputId": "b3df2a07-a6dd-46a7-e463-432594295239"
      },
      "execution_count": 10,
      "outputs": [
        {
          "output_type": "execute_result",
          "data": {
            "text/plain": [
              "array([50000,  1000,  1000, 14000,  2000])"
            ]
          },
          "metadata": {},
          "execution_count": 10
        }
      ]
    },
    {
      "cell_type": "code",
      "source": [
        "customer_ids1 = retail_np_array[:, 0]\n",
        "customer_ids1"
      ],
      "metadata": {
        "colab": {
          "base_uri": "https://localhost:8080/"
        },
        "id": "9wM1va70Ed4y",
        "outputId": "13a8db4b-91df-4524-a76e-d83a81dfb237"
      },
      "execution_count": 11,
      "outputs": [
        {
          "output_type": "execute_result",
          "data": {
            "text/plain": [
              "array([1001, 1002, 1003, 1004, 1005], dtype=object)"
            ]
          },
          "metadata": {},
          "execution_count": 11
        }
      ]
    },
    {
      "cell_type": "code",
      "source": [
        "retail_np_array.shape # returns the shape like rows and coloumns"
      ],
      "metadata": {
        "colab": {
          "base_uri": "https://localhost:8080/"
        },
        "id": "FDSaJIa8E496",
        "outputId": "de5b8ce6-8a7b-491d-bafd-ce8adba14ab4"
      },
      "execution_count": 12,
      "outputs": [
        {
          "output_type": "execute_result",
          "data": {
            "text/plain": [
              "(5, 5)"
            ]
          },
          "metadata": {},
          "execution_count": 12
        }
      ]
    },
    {
      "cell_type": "code",
      "source": [
        "print(\"1. Total number of transactions: \",retail_np_array.shape[0])"
      ],
      "metadata": {
        "colab": {
          "base_uri": "https://localhost:8080/"
        },
        "id": "cQRTZGA5Gp_s",
        "outputId": "fd7ce007-1ab6-4353-8a36-924f4f446d26"
      },
      "execution_count": 13,
      "outputs": [
        {
          "output_type": "stream",
          "name": "stdout",
          "text": [
            "1. Total number of transactions:  5\n"
          ]
        }
      ]
    },
    {
      "cell_type": "code",
      "source": [
        "print(\"2. Total revenue generated: \",np.sum(totals))"
      ],
      "metadata": {
        "colab": {
          "base_uri": "https://localhost:8080/"
        },
        "id": "CS0KftBzIXoA",
        "outputId": "dfe78bff-86b3-46b5-8b1b-6dbd39f60616"
      },
      "execution_count": 14,
      "outputs": [
        {
          "output_type": "stream",
          "name": "stdout",
          "text": [
            "2. Total revenue generated:  68000\n"
          ]
        }
      ]
    },
    {
      "cell_type": "code",
      "source": [
        "print(\"3. Average order value: \",np.mean(totals))"
      ],
      "metadata": {
        "colab": {
          "base_uri": "https://localhost:8080/"
        },
        "id": "52i3e2b8Iwlz",
        "outputId": "7cbc092d-8edb-4b80-ee8b-dca096952f05"
      },
      "execution_count": 15,
      "outputs": [
        {
          "output_type": "stream",
          "name": "stdout",
          "text": [
            "3. Average order value:  13600.0\n"
          ]
        }
      ]
    },
    {
      "cell_type": "code",
      "source": [
        "print(\"4. Product with the highest total price: \",products [np.argmax(totals)])"
      ],
      "metadata": {
        "colab": {
          "base_uri": "https://localhost:8080/"
        },
        "id": "HgrzlQ-3I7lo",
        "outputId": "47342dc2-426f-466e-ec57-77c2c93f4368"
      },
      "execution_count": 16,
      "outputs": [
        {
          "output_type": "stream",
          "name": "stdout",
          "text": [
            "4. Product with the highest total price:  Laptop\n"
          ]
        }
      ]
    },
    {
      "cell_type": "code",
      "source": [
        "print(\"5. Product with the lowest total price: \",products [np.argmin(totals)])"
      ],
      "metadata": {
        "colab": {
          "base_uri": "https://localhost:8080/"
        },
        "id": "4dBEtwXQJFI7",
        "outputId": "5ef68199-0a21-48bc-eef4-d3a49002e0ce"
      },
      "execution_count": 17,
      "outputs": [
        {
          "output_type": "stream",
          "name": "stdout",
          "text": [
            "5. Product with the lowest total price:  Mouse\n"
          ]
        }
      ]
    },
    {
      "cell_type": "code",
      "source": [
        "print(\"6. Average price of products: \",np.mean (prices))"
      ],
      "metadata": {
        "colab": {
          "base_uri": "https://localhost:8080/"
        },
        "id": "edFx9cKpJ4s9",
        "outputId": "8b253a0a-a1c8-4c21-e7f7-ac7c8c03bc9a"
      },
      "execution_count": 18,
      "outputs": [
        {
          "output_type": "stream",
          "name": "stdout",
          "text": [
            "6. Average price of products:  12100.0\n"
          ]
        }
      ]
    },
    {
      "cell_type": "code",
      "source": [
        "print(\"7. Total quantity sold: \",np.sum (quantities),)"
      ],
      "metadata": {
        "colab": {
          "base_uri": "https://localhost:8080/"
        },
        "id": "PMIwrCydKnVl",
        "outputId": "f1557fe9-4d41-4a85-df61-96e7c499c233"
      },
      "execution_count": 19,
      "outputs": [
        {
          "output_type": "stream",
          "name": "stdout",
          "text": [
            "7. Total quantity sold:  7\n"
          ]
        }
      ]
    },
    {
      "cell_type": "code",
      "source": [
        "print(\"8. Most frequently purchased product: \",np.unique(products, return_counts=True)[0][np.argmax(np.unique(products, return_counts=True)[1])])"
      ],
      "metadata": {
        "colab": {
          "base_uri": "https://localhost:8080/"
        },
        "id": "umhVlXg9K2Zt",
        "outputId": "12c934a0-8477-412d-fa42-24b51653eb24"
      },
      "execution_count": 20,
      "outputs": [
        {
          "output_type": "stream",
          "name": "stdout",
          "text": [
            "8. Most frequently purchased product:  Headphones\n"
          ]
        }
      ]
    },
    {
      "cell_type": "code",
      "source": [
        "print(\"9. Number of unique products : \",len (np.unique (products)),)"
      ],
      "metadata": {
        "colab": {
          "base_uri": "https://localhost:8080/"
        },
        "id": "SU0yVOttLJLB",
        "outputId": "04036674-69f2-42b6-b8dc-cc77d4d29f18"
      },
      "execution_count": 21,
      "outputs": [
        {
          "output_type": "stream",
          "name": "stdout",
          "text": [
            "9. Number of unique products :  5\n"
          ]
        }
      ]
    },
    {
      "cell_type": "code",
      "source": [
        "print(\"10. Number of unique customers: \",len(np.unique(customer_ids)))"
      ],
      "metadata": {
        "id": "s1ScjlM9MYsq",
        "colab": {
          "base_uri": "https://localhost:8080/"
        },
        "outputId": "6990ada3-5ad5-434c-ea14-f4da3792c0af"
      },
      "execution_count": 22,
      "outputs": [
        {
          "output_type": "stream",
          "name": "stdout",
          "text": [
            "10. Number of unique customers:  5\n"
          ]
        }
      ]
    },
    {
      "cell_type": "code",
      "source": [
        "print(\"11. List all products sold: \",products.tolist())"
      ],
      "metadata": {
        "colab": {
          "base_uri": "https://localhost:8080/"
        },
        "id": "9wupANyFftLk",
        "outputId": "7cd5a479-5e6f-4b9b-b738-75767aa657f0"
      },
      "execution_count": 23,
      "outputs": [
        {
          "output_type": "stream",
          "name": "stdout",
          "text": [
            "11. List all products sold:  ['Laptop', 'Mouse', 'Keyboard', 'Monitor', 'Headphones']\n"
          ]
        }
      ]
    },
    {
      "cell_type": "code",
      "source": [
        "print(\"12. Revenue per product: \",{prod: np.sum(totals[products == prod]) for prod in np.unique(products)},)"
      ],
      "metadata": {
        "colab": {
          "base_uri": "https://localhost:8080/"
        },
        "id": "la0ZBWaGf4u3",
        "outputId": "96d28c2c-2cbb-4cc5-9a9f-39a4dff83d51"
      },
      "execution_count": 24,
      "outputs": [
        {
          "output_type": "stream",
          "name": "stdout",
          "text": [
            "12. Revenue per product:  {'Headphones': np.int64(2000), 'Keyboard': np.int64(1000), 'Laptop': np.int64(50000), 'Monitor': np.int64(14000), 'Mouse': np.int64(1000)}\n"
          ]
        }
      ]
    },
    {
      "cell_type": "code",
      "source": [
        "print(\"13. Quantity sold per product : \",{prod: np.sum(quantities[products == prod]) for prod in np.unique(products)})"
      ],
      "metadata": {
        "colab": {
          "base_uri": "https://localhost:8080/"
        },
        "id": "r78Qf8FfgCuh",
        "outputId": "d558b645-9e5c-4c17-e22c-50035390dc27"
      },
      "execution_count": 25,
      "outputs": [
        {
          "output_type": "stream",
          "name": "stdout",
          "text": [
            "13. Quantity sold per product :  {'Headphones': np.int64(1), 'Keyboard': np.int64(1), 'Laptop': np.int64(1), 'Monitor': np.int64(2), 'Mouse': np.int64(2)}\n"
          ]
        }
      ]
    },
    {
      "cell_type": "code",
      "source": [
        "print(\"14. Highest price of a product : \",np.max(prices),)"
      ],
      "metadata": {
        "colab": {
          "base_uri": "https://localhost:8080/"
        },
        "id": "f9HaimS-gny4",
        "outputId": "85292ca4-b610-4122-ab50-b51633cd6a39"
      },
      "execution_count": 26,
      "outputs": [
        {
          "output_type": "stream",
          "name": "stdout",
          "text": [
            "14. Highest price of a product :  50000\n"
          ]
        }
      ]
    },
    {
      "cell_type": "code",
      "source": [
        "print(\"15. Lowest price of a product : \",np.min(prices))"
      ],
      "metadata": {
        "colab": {
          "base_uri": "https://localhost:8080/"
        },
        "id": "ucThfmLMn55x",
        "outputId": "c7903ddd-6f02-4bcf-fd63-2c755aa23bce"
      },
      "execution_count": 27,
      "outputs": [
        {
          "output_type": "stream",
          "name": "stdout",
          "text": [
            "15. Lowest price of a product :  500\n"
          ]
        }
      ]
    },
    {
      "cell_type": "code",
      "source": [
        "print(\"16. Products sold more than once : \",products[quantities > 1].tolist())"
      ],
      "metadata": {
        "colab": {
          "base_uri": "https://localhost:8080/"
        },
        "id": "oHTqVFbEoEOO",
        "outputId": "1d17d2b3-3e78-46ca-e1b2-68267913db65"
      },
      "execution_count": 30,
      "outputs": [
        {
          "output_type": "stream",
          "name": "stdout",
          "text": [
            "16. Products sold more than once :  ['Mouse', 'Monitor']\n"
          ]
        }
      ]
    },
    {
      "cell_type": "code",
      "source": [
        "print(\"17. Customers who bought more than one item : \",customer_ids[quantities > 1])"
      ],
      "metadata": {
        "colab": {
          "base_uri": "https://localhost:8080/"
        },
        "id": "iyyGIX3ToMGe",
        "outputId": "9ced2ba3-3787-4905-cd51-15027056312a"
      },
      "execution_count": 31,
      "outputs": [
        {
          "output_type": "stream",
          "name": "stdout",
          "text": [
            "17. Customers who bought more than one item :  [1002 1004]\n"
          ]
        }
      ]
    },
    {
      "cell_type": "code",
      "source": [
        "print(\"18. Total spent by CustomerID 1002 : \",np.sum(totals[customer_ids == 1002]))"
      ],
      "metadata": {
        "colab": {
          "base_uri": "https://localhost:8080/"
        },
        "id": "B00LqavEobYy",
        "outputId": "cc172a7f-89ea-43a5-9156-2ce84d303e7d"
      },
      "execution_count": 32,
      "outputs": [
        {
          "output_type": "stream",
          "name": "stdout",
          "text": [
            "18. Total spent by CustomerID 1002 :  1000\n"
          ]
        }
      ]
    },
    {
      "cell_type": "code",
      "source": [
        "print(\"19. Products priced above 1000 : \",products[prices > 1000])"
      ],
      "metadata": {
        "colab": {
          "base_uri": "https://localhost:8080/"
        },
        "id": "A2R374PeonWt",
        "outputId": "4fcff401-15a6-4e0d-d912-d7249acfee3d"
      },
      "execution_count": 34,
      "outputs": [
        {
          "output_type": "stream",
          "name": "stdout",
          "text": [
            "19. Products priced above 1000 :  ['Laptop' 'Monitor' 'Headphones']\n"
          ]
        }
      ]
    },
    {
      "cell_type": "code",
      "source": [
        "print(\"20. Products with total >= 2000 : \",products[totals >= 2000])"
      ],
      "metadata": {
        "colab": {
          "base_uri": "https://localhost:8080/"
        },
        "id": "1h9cczeDow1K",
        "outputId": "0471dad7-257b-4d57-9ad1-cab134450be9"
      },
      "execution_count": 35,
      "outputs": [
        {
          "output_type": "stream",
          "name": "stdout",
          "text": [
            "20. Products with total >= 2000 :  ['Laptop' 'Monitor' 'Headphones']\n"
          ]
        }
      ]
    },
    {
      "cell_type": "code",
      "source": [],
      "metadata": {
        "id": "3SuZXFsHpKSV"
      },
      "execution_count": null,
      "outputs": []
    }
  ]
}