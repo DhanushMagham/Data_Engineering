{
  "nbformat": 4,
  "nbformat_minor": 0,
  "metadata": {
    "colab": {
      "provenance": []
    },
    "kernelspec": {
      "name": "python3",
      "display_name": "Python 3"
    },
    "language_info": {
      "name": "python"
    }
  },
  "cells": [
    {
      "cell_type": "code",
      "execution_count": null,
      "metadata": {
        "colab": {
          "base_uri": "https://localhost:8080/"
        },
        "id": "ShD0lpPKEwCi",
        "outputId": "e6b1498c-5651-438b-ca55-39db115327f6"
      },
      "outputs": [
        {
          "output_type": "stream",
          "name": "stdout",
          "text": [
            "                    \n",
            "*                  *\n",
            "**                **\n",
            "***              ***\n",
            "****            ****\n",
            "*****          *****\n",
            "******        ******\n",
            "*******      *******\n",
            "********    ********\n",
            "*********  *********\n",
            "********************\n",
            "*********  *********\n",
            "********    ********\n",
            "*******      *******\n",
            "******        ******\n",
            "*****          *****\n",
            "****            ****\n",
            "***              ***\n",
            "**                **\n",
            "*                  *\n",
            "                    \n"
          ]
        }
      ],
      "source": [
        "for i in range(10):\n",
        "  print(i*\"*\" + \" \"*(10-i) + (\" \"*(10-i)+ i*\"*\"))\n",
        "for i in range(11):\n",
        "  print((\"*\"*(10-i)+ i*\" \") + (i*\" \"+\"*\"*(10-i)))"
      ]
    },
    {
      "cell_type": "code",
      "source": [
        "for i in range(1,10):\n",
        "  print((\" *\"*i).center(20,\" \"))"
      ],
      "metadata": {
        "colab": {
          "base_uri": "https://localhost:8080/"
        },
        "id": "WZGPH9yxSK1c",
        "outputId": "c4217ba7-f601-400e-c9fc-5fef212fbf47"
      },
      "execution_count": 24,
      "outputs": [
        {
          "output_type": "stream",
          "name": "stdout",
          "text": [
            "          *         \n",
            "         * *        \n",
            "        * * *       \n",
            "       * * * *      \n",
            "      * * * * *     \n",
            "     * * * * * *    \n",
            "    * * * * * * *   \n",
            "   * * * * * * * *  \n",
            "  * * * * * * * * * \n"
          ]
        }
      ]
    },
    {
      "cell_type": "code",
      "source": [
        "for i in range(1,10):\n",
        "  print((\" *\"*i).center(20,\" \"))\n",
        "for i in range(10,0,-1):\n",
        "  print((\" *\"*i).center(20,\" \"))"
      ],
      "metadata": {
        "colab": {
          "base_uri": "https://localhost:8080/"
        },
        "id": "80BGjzofSKkp",
        "outputId": "7611f799-846b-48ae-dbe2-112f93317c66"
      },
      "execution_count": 26,
      "outputs": [
        {
          "output_type": "stream",
          "name": "stdout",
          "text": [
            "          *         \n",
            "         * *        \n",
            "        * * *       \n",
            "       * * * *      \n",
            "      * * * * *     \n",
            "     * * * * * *    \n",
            "    * * * * * * *   \n",
            "   * * * * * * * *  \n",
            "  * * * * * * * * * \n",
            " * * * * * * * * * *\n",
            "  * * * * * * * * * \n",
            "   * * * * * * * *  \n",
            "    * * * * * * *   \n",
            "     * * * * * *    \n",
            "      * * * * *     \n",
            "       * * * *      \n",
            "        * * *       \n",
            "         * *        \n",
            "          *         \n"
          ]
        }
      ]
    },
    {
      "cell_type": "code",
      "source": [
        "for i in range(10,1,-1):\n",
        "  print((\" *\"*i).center(20,\" \"))\n",
        "for i in range(1,10):\n",
        "  print((\" *\"*i).center(20,\" \"))"
      ],
      "metadata": {
        "colab": {
          "base_uri": "https://localhost:8080/"
        },
        "id": "_BsErRzaQSBM",
        "outputId": "971eb7ae-e9d6-486e-c4ea-80dfff3fc2c0"
      },
      "execution_count": 20,
      "outputs": [
        {
          "output_type": "stream",
          "name": "stdout",
          "text": [
            " * * * * * * * * * *\n",
            "  * * * * * * * * * \n",
            "   * * * * * * * *  \n",
            "    * * * * * * *   \n",
            "     * * * * * *    \n",
            "      * * * * *     \n",
            "       * * * *      \n",
            "        * * *       \n",
            "         * *        \n",
            "          *         \n",
            "         * *        \n",
            "        * * *       \n",
            "       * * * *      \n",
            "      * * * * *     \n",
            "     * * * * * *    \n",
            "    * * * * * * *   \n",
            "   * * * * * * * *  \n",
            "  * * * * * * * * * \n"
          ]
        }
      ]
    },
    {
      "cell_type": "code",
      "source": [
        "for i in range(5,1,-1):\n",
        "  print((\" *\"*i).center(10,\" \"))\n",
        "for i in range(1,6):\n",
        "  print((\" *\"*i).center(10,\" \"))"
      ],
      "metadata": {
        "colab": {
          "base_uri": "https://localhost:8080/"
        },
        "id": "hZQ77N9uRvlx",
        "outputId": "6cca30fb-5fb1-4593-867f-036f1bf995a6"
      },
      "execution_count": 23,
      "outputs": [
        {
          "output_type": "stream",
          "name": "stdout",
          "text": [
            " * * * * *\n",
            "  * * * * \n",
            "   * * *  \n",
            "    * *   \n",
            "     *    \n",
            "    * *   \n",
            "   * * *  \n",
            "  * * * * \n",
            " * * * * *\n"
          ]
        }
      ]
    },
    {
      "cell_type": "code",
      "source": [
        "n = 5\n",
        "for i in range(1,n+1):\n",
        "    print(\" \"*(n - i),end=\"\")\n",
        "    for j in range(1,i+1):\n",
        "        print(j, end=\" \")\n",
        "    print()"
      ],
      "metadata": {
        "colab": {
          "base_uri": "https://localhost:8080/"
        },
        "id": "A0w1BceDTRc_",
        "outputId": "4036bea9-fc09-40b7-d531-8e2cc356ff2f"
      },
      "execution_count": 46,
      "outputs": [
        {
          "output_type": "stream",
          "name": "stdout",
          "text": [
            "    1 \n",
            "   1 2 \n",
            "  1 2 3 \n",
            " 1 2 3 4 \n",
            "1 2 3 4 5 \n"
          ]
        }
      ]
    },
    {
      "cell_type": "code",
      "source": [],
      "metadata": {
        "id": "NrRCsxq9Xa0v"
      },
      "execution_count": 42,
      "outputs": []
    }
  ]
}