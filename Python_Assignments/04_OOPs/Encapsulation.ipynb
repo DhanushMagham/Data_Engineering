{
  "nbformat": 4,
  "nbformat_minor": 0,
  "metadata": {
    "colab": {
      "provenance": []
    },
    "kernelspec": {
      "name": "python3",
      "display_name": "Python 3"
    },
    "language_info": {
      "name": "python"
    }
  },
  "cells": [
    {
      "cell_type": "markdown",
      "source": [
        "# Encapsulation\n",
        "\n",
        "  in encapsulation we are trying to num;de data attributes and methods into a single unit class\n",
        " restrictions will be implemented on top the classes"
      ],
      "metadata": {
        "id": "OsSymVxAaKT-"
      }
    },
    {
      "cell_type": "markdown",
      "source": [
        "# **Types of capsulation**\n",
        "1.   Public\n",
        "2.   Protected  Symbol : _\n",
        "3.   Private Symbol : __\n",
        "\n",
        "\n",
        ""
      ],
      "metadata": {
        "id": "pESC-n1naWyy"
      }
    },
    {
      "cell_type": "code",
      "source": [
        "# Example for public\n",
        "class Car:\n",
        "    def __init__(self):\n",
        "        self.brand = \"Toyota\"\n",
        "\n",
        "c = Car()\n",
        "print(c.brand)  # Accessing public variable\n"
      ],
      "metadata": {
        "colab": {
          "base_uri": "https://localhost:8080/"
        },
        "id": "07JeX2eraVXP",
        "outputId": "4e4f5a81-946d-462f-ea0f-058aa248c35f"
      },
      "execution_count": 2,
      "outputs": [
        {
          "output_type": "stream",
          "name": "stdout",
          "text": [
            "Toyota\n"
          ]
        }
      ]
    },
    {
      "cell_type": "code",
      "source": [
        "# Example for protected\n",
        "class Employee:\n",
        "    def __init__(self):\n",
        "        self._salary = 50000\n",
        "\n",
        "e = Employee()\n",
        "print(e._salary)  # Technically accessible, but not recommended"
      ],
      "metadata": {
        "colab": {
          "base_uri": "https://localhost:8080/"
        },
        "id": "JXU-i-RlaVkb",
        "outputId": "18b023b9-345e-4cbb-8e97-6e2e42682b16"
      },
      "execution_count": 3,
      "outputs": [
        {
          "output_type": "stream",
          "name": "stdout",
          "text": [
            "50000\n"
          ]
        }
      ]
    },
    {
      "cell_type": "code",
      "source": [
        "# Example for Private\n",
        "class Laptop:\n",
        "    def __init__(self):\n",
        "        self.__serial_number = \"SN-987654\"\n",
        "\n",
        "l = Laptop()\n",
        "l.__serial_number"
      ],
      "metadata": {
        "colab": {
          "base_uri": "https://localhost:8080/",
          "height": 176
        },
        "id": "9_ccuqeyaVnm",
        "outputId": "cef23fc5-f3f7-47c0-bebe-d98407da68ec"
      },
      "execution_count": 4,
      "outputs": [
        {
          "output_type": "error",
          "ename": "AttributeError",
          "evalue": "'Laptop' object has no attribute '__serial_number'",
          "traceback": [
            "\u001b[0;31m---------------------------------------------------------------------------\u001b[0m",
            "\u001b[0;31mAttributeError\u001b[0m                            Traceback (most recent call last)",
            "\u001b[0;32m/tmp/ipython-input-4-480433851.py\u001b[0m in \u001b[0;36m<cell line: 0>\u001b[0;34m()\u001b[0m\n\u001b[1;32m      5\u001b[0m \u001b[0;34m\u001b[0m\u001b[0m\n\u001b[1;32m      6\u001b[0m \u001b[0ml\u001b[0m \u001b[0;34m=\u001b[0m \u001b[0mLaptop\u001b[0m\u001b[0;34m(\u001b[0m\u001b[0;34m)\u001b[0m\u001b[0;34m\u001b[0m\u001b[0;34m\u001b[0m\u001b[0m\n\u001b[0;32m----> 7\u001b[0;31m \u001b[0ml\u001b[0m\u001b[0;34m.\u001b[0m\u001b[0m__serial_number\u001b[0m\u001b[0;34m\u001b[0m\u001b[0;34m\u001b[0m\u001b[0m\n\u001b[0m",
            "\u001b[0;31mAttributeError\u001b[0m: 'Laptop' object has no attribute '__serial_number'"
          ]
        }
      ]
    },
    {
      "cell_type": "code",
      "source": [
        "class BankAccount:\n",
        "    def __init__(self, holder_name, balance, pin):\n",
        "        self._holder_name = holder_name          # protected\n",
        "        self.__balance = balance                 # private\n",
        "        self.__pin = pin                         # private\n",
        "   ### 100, 300 --->400\n",
        "    def deposit(self, amount):\n",
        "        if amount > 0:\n",
        "            self.__balance += amount\n",
        "   ### 400--->300\n",
        "    def withdraw(self, amount, pin):\n",
        "        if pin == self.__pin and amount <= self.__balance:\n",
        "            self.__balance -= amount\n",
        "            return amount\n",
        "        else:\n",
        "            return \"Invalid pin or insufficient funds\"\n",
        "\n",
        "    def get_balance(self, pin):\n",
        "        return self.__balance if pin == self.__pin else \"Access Denied\""
      ],
      "metadata": {
        "id": "CKWmjehiaVqn"
      },
      "execution_count": 5,
      "outputs": []
    },
    {
      "cell_type": "code",
      "source": [
        "obj = BankAccount(\"John Doe\", 1000, \"1234\")\n",
        "obj.deposit(500)\n",
        "print(obj.get_balance(\"1234\"))  # Output: 1500\n",
        "print(obj.withdraw(200, \"1234\"))  # Output: 200"
      ],
      "metadata": {
        "colab": {
          "base_uri": "https://localhost:8080/"
        },
        "id": "XqUUWvzzaVtp",
        "outputId": "a0461c2f-df78-4c09-cc51-2a552102c757"
      },
      "execution_count": 7,
      "outputs": [
        {
          "output_type": "stream",
          "name": "stdout",
          "text": [
            "1500\n",
            "200\n"
          ]
        }
      ]
    },
    {
      "cell_type": "code",
      "source": [
        "obj."
      ],
      "metadata": {
        "id": "P1cK7D9SaVwg"
      },
      "execution_count": null,
      "outputs": []
    },
    {
      "cell_type": "code",
      "source": [],
      "metadata": {
        "id": "RbvkusFCaVzu"
      },
      "execution_count": null,
      "outputs": []
    },
    {
      "cell_type": "code",
      "source": [],
      "metadata": {
        "id": "WnLEMQ8SaV2V"
      },
      "execution_count": null,
      "outputs": []
    },
    {
      "cell_type": "code",
      "source": [],
      "metadata": {
        "id": "8iH_gn-waV5F"
      },
      "execution_count": null,
      "outputs": []
    },
    {
      "cell_type": "code",
      "source": [],
      "metadata": {
        "id": "UrWSL8UraV73"
      },
      "execution_count": null,
      "outputs": []
    },
    {
      "cell_type": "code",
      "source": [],
      "metadata": {
        "id": "A28prt7oaV-y"
      },
      "execution_count": null,
      "outputs": []
    },
    {
      "cell_type": "code",
      "source": [],
      "metadata": {
        "id": "IXyB96_YaWCV"
      },
      "execution_count": null,
      "outputs": []
    }
  ]
}