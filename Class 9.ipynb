{
  "nbformat": 4,
  "nbformat_minor": 0,
  "metadata": {
    "colab": {
      "provenance": []
    },
    "kernelspec": {
      "name": "python3",
      "display_name": "Python 3"
    },
    "language_info": {
      "name": "python"
    }
  },
  "cells": [
    {
      "cell_type": "code",
      "execution_count": 1,
      "metadata": {
        "colab": {
          "base_uri": "https://localhost:8080/"
        },
        "id": "vRncQ_1GigLe",
        "outputId": "c2813d53-3ef7-4ef1-f1c9-17163153649b"
      },
      "outputs": [
        {
          "output_type": "stream",
          "name": "stdout",
          "text": [
            "0\n",
            "1\n",
            "2\n",
            "4\n",
            "5\n",
            "6\n",
            "7\n",
            "8\n",
            "9\n"
          ]
        }
      ],
      "source": [
        "for i in range(0,10):\n",
        "  if i==3:\n",
        "    continue\n",
        "  print(i)"
      ]
    },
    {
      "cell_type": "code",
      "source": [
        "for i in range(0,5):\n",
        "  for j  in range(1,5):\n",
        "    print(i,j)\n",
        "    if j==5:\n",
        "      break"
      ],
      "metadata": {
        "colab": {
          "base_uri": "https://localhost:8080/"
        },
        "id": "wdk0Uy_miw3s",
        "outputId": "86f80d4d-935e-4c08-8cc0-05bffc3ac9a8"
      },
      "execution_count": 5,
      "outputs": [
        {
          "output_type": "stream",
          "name": "stdout",
          "text": [
            "0 1\n",
            "0 2\n",
            "0 3\n",
            "0 4\n",
            "1 1\n",
            "1 2\n",
            "1 3\n",
            "1 4\n",
            "2 1\n",
            "2 2\n",
            "2 3\n",
            "2 4\n",
            "3 1\n",
            "3 2\n",
            "3 3\n",
            "3 4\n",
            "4 1\n",
            "4 2\n",
            "4 3\n",
            "4 4\n"
          ]
        }
      ]
    },
    {
      "cell_type": "code",
      "source": [
        "for i in range(1,6):\n",
        "  for j in range(1,6):\n",
        "    print((i+j)//2,end=\" \")\n",
        "  print()"
      ],
      "metadata": {
        "colab": {
          "base_uri": "https://localhost:8080/"
        },
        "id": "EVfAGIXOi2Rv",
        "outputId": "763be230-23d4-41ce-ebac-19a41ea7d2cb"
      },
      "execution_count": 7,
      "outputs": [
        {
          "output_type": "stream",
          "name": "stdout",
          "text": [
            "1 1 2 2 3 \n",
            "1 2 2 3 3 \n",
            "2 2 3 3 4 \n",
            "2 3 3 4 4 \n",
            "3 3 4 4 5 \n"
          ]
        }
      ]
    },
    {
      "cell_type": "code",
      "source": [
        "for i in range(0,5):\n",
        "  for j in range(0,i+1):\n",
        "    print((i+j)%2==0, end=\" \")\n",
        "  print( )\n"
      ],
      "metadata": {
        "colab": {
          "base_uri": "https://localhost:8080/"
        },
        "id": "9pn7txpukUZv",
        "outputId": "d409023c-60ec-45d3-8dfa-fba52944abe0"
      },
      "execution_count": 10,
      "outputs": [
        {
          "output_type": "stream",
          "name": "stdout",
          "text": [
            "True \n",
            "False True \n",
            "True False True \n",
            "False True False True \n",
            "True False True False True \n"
          ]
        }
      ]
    },
    {
      "cell_type": "code",
      "source": [
        "for i in range(0,5):\n",
        "  for j in range(0,i+1):\n",
        "    print((i+j)%2, end=\" \")\n",
        "  print( )\n"
      ],
      "metadata": {
        "colab": {
          "base_uri": "https://localhost:8080/"
        },
        "id": "nzivEg94k1B4",
        "outputId": "7d033525-e27b-4708-f4f2-182b2e27b6ef"
      },
      "execution_count": 11,
      "outputs": [
        {
          "output_type": "stream",
          "name": "stdout",
          "text": [
            "0 \n",
            "1 0 \n",
            "0 1 0 \n",
            "1 0 1 0 \n",
            "0 1 0 1 0 \n"
          ]
        }
      ]
    },
    {
      "cell_type": "code",
      "source": [
        "for i in range(5,0,-1):\n",
        "  for j in range(i+1,0,-1):\n",
        "    print((i+j)%2, end=\" \")\n",
        "  print( )\n"
      ],
      "metadata": {
        "colab": {
          "base_uri": "https://localhost:8080/"
        },
        "id": "XoGEaAErlFTT",
        "outputId": "9f5d797f-7050-438c-ad88-3cf9d35a17e7"
      },
      "execution_count": 12,
      "outputs": [
        {
          "output_type": "stream",
          "name": "stdout",
          "text": [
            "1 0 1 0 1 0 \n",
            "1 0 1 0 1 \n",
            "1 0 1 0 \n",
            "1 0 1 \n",
            "1 0 \n"
          ]
        }
      ]
    },
    {
      "cell_type": "code",
      "source": [
        "for i in range(0,6):\n",
        "  for j in range(0,i+1):\n",
        "    print((j), end=\" \")\n",
        "  print( )\n"
      ],
      "metadata": {
        "colab": {
          "base_uri": "https://localhost:8080/"
        },
        "id": "0m-L2FNflT8e",
        "outputId": "7341dae1-83ca-43b2-84ef-5bd82422ae0e"
      },
      "execution_count": 14,
      "outputs": [
        {
          "output_type": "stream",
          "name": "stdout",
          "text": [
            "0 \n",
            "0 1 \n",
            "0 1 2 \n",
            "0 1 2 3 \n",
            "0 1 2 3 4 \n",
            "0 1 2 3 4 5 \n"
          ]
        }
      ]
    },
    {
      "cell_type": "code",
      "source": [
        "for i in range(0,5):\n",
        "  print((\" *\"*i).center(10,\" \"))"
      ],
      "metadata": {
        "colab": {
          "base_uri": "https://localhost:8080/"
        },
        "id": "qxOvWECUlhy8",
        "outputId": "14da633b-3cd4-4adc-9ba8-2ec699c94f0a"
      },
      "execution_count": 17,
      "outputs": [
        {
          "output_type": "stream",
          "name": "stdout",
          "text": [
            "          \n",
            "     *    \n",
            "    * *   \n",
            "   * * *  \n",
            "  * * * * \n"
          ]
        }
      ]
    },
    {
      "cell_type": "code",
      "source": [
        "for i in range(1,6):\n",
        "  print((\" *\"*i).center(10,\" \"))"
      ],
      "metadata": {
        "colab": {
          "base_uri": "https://localhost:8080/"
        },
        "id": "901nQfQ1l5LE",
        "outputId": "83424718-c3c1-451c-fceb-4a5bce2327ae"
      },
      "execution_count": 18,
      "outputs": [
        {
          "output_type": "stream",
          "name": "stdout",
          "text": [
            "     *    \n",
            "    * *   \n",
            "   * * *  \n",
            "  * * * * \n",
            " * * * * *\n"
          ]
        }
      ]
    },
    {
      "cell_type": "code",
      "source": [
        "for i in range(1,6):\n",
        "  print((\" *\"*i).center(15,\" \"))"
      ],
      "metadata": {
        "colab": {
          "base_uri": "https://localhost:8080/"
        },
        "id": "8SLiJkNLmIsZ",
        "outputId": "5474d2d5-f6b9-412f-8cca-917f2e53c3f6"
      },
      "execution_count": 23,
      "outputs": [
        {
          "output_type": "stream",
          "name": "stdout",
          "text": [
            "        *      \n",
            "       * *     \n",
            "      * * *    \n",
            "     * * * *   \n",
            "    * * * * *  \n"
          ]
        }
      ]
    },
    {
      "cell_type": "code",
      "source": [],
      "metadata": {
        "id": "QotlVU0smTVL"
      },
      "execution_count": null,
      "outputs": []
    }
  ]
}