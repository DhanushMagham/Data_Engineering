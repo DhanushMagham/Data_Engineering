{
  "nbformat": 4,
  "nbformat_minor": 0,
  "metadata": {
    "colab": {
      "provenance": []
    },
    "kernelspec": {
      "name": "python3",
      "display_name": "Python 3"
    },
    "language_info": {
      "name": "python"
    }
  },
  "cells": [
    {
      "cell_type": "code",
      "execution_count": null,
      "metadata": {
        "id": "mr2iUNwQCP1-"
      },
      "outputs": [],
      "source": [
        "import numpy as np"
      ]
    },
    {
      "cell_type": "code",
      "source": [
        "# Retail dataset as numpy array\n",
        "\n",
        "retail_np_array = np.array([\n",
        "    [1001, \"Laptop\", 1, 50000, 50000],\n",
        "    [1002, \"Mouse\", 2, 500, 1000],\n",
        "    [1003, \"Keyboard\", 1, 1000, 1000],\n",
        "    [1004, \"Monitor\", 2, 7000, 14000],\n",
        "    [1005, \"Headphones\", 1, 2000, 2000]\n",
        "], dtype=object)\n",
        "\n",
        "retail_np_array"
      ],
      "metadata": {
        "colab": {
          "base_uri": "https://localhost:8080/"
        },
        "id": "hL7JfzMsCccy",
        "outputId": "f21af8d4-8969-4257-d566-2827da5539a8"
      },
      "execution_count": null,
      "outputs": [
        {
          "output_type": "execute_result",
          "data": {
            "text/plain": [
              "array([[1001, 'Laptop', 1, 50000, 50000],\n",
              "       [1002, 'Mouse', 2, 500, 1000],\n",
              "       [1003, 'Keyboard', 1, 1000, 1000],\n",
              "       [1004, 'Monitor', 2, 7000, 14000],\n",
              "       [1005, 'Headphones', 1, 2000, 2000]], dtype=object)"
            ]
          },
          "metadata": {},
          "execution_count": 3
        }
      ]
    },
    {
      "cell_type": "code",
      "source": [
        "# Extracting columns\n",
        "\n",
        "customer_ids = retail_np_array[:, 0]\n",
        "\n",
        "products = retail_np_array[:, 1]\n",
        "\n",
        "quantities = retail_np_array[:, 2].astype(int)\n",
        "\n",
        "prices = retail_np_array[:, 3].astype(int)\n",
        "\n",
        "totals = retail_np_array[:, 4].astype(int)\n"
      ],
      "metadata": {
        "id": "niO75RCPDPr6"
      },
      "execution_count": null,
      "outputs": []
    },
    {
      "cell_type": "code",
      "source": [
        "customer_ids"
      ],
      "metadata": {
        "colab": {
          "base_uri": "https://localhost:8080/"
        },
        "id": "F3H-rAm6DzQ6",
        "outputId": "0efbf4aa-d81a-4de0-bd96-6c84ba7f00f9"
      },
      "execution_count": null,
      "outputs": [
        {
          "output_type": "execute_result",
          "data": {
            "text/plain": [
              "array([1001, 1002, 1003, 1004, 1005], dtype=object)"
            ]
          },
          "metadata": {},
          "execution_count": 6
        }
      ]
    },
    {
      "cell_type": "code",
      "source": [
        "products"
      ],
      "metadata": {
        "colab": {
          "base_uri": "https://localhost:8080/"
        },
        "id": "cabiHY-3D6Zd",
        "outputId": "85965fe1-b9b0-4eb4-bf76-06b71c7e2b94"
      },
      "execution_count": null,
      "outputs": [
        {
          "output_type": "execute_result",
          "data": {
            "text/plain": [
              "array(['Laptop', 'Mouse', 'Keyboard', 'Monitor', 'Headphones'],\n",
              "      dtype=object)"
            ]
          },
          "metadata": {},
          "execution_count": 7
        }
      ]
    },
    {
      "cell_type": "code",
      "source": [
        "quantities"
      ],
      "metadata": {
        "colab": {
          "base_uri": "https://localhost:8080/"
        },
        "id": "AE_1WR7qEAsz",
        "outputId": "a26a6c1f-5c45-4b75-f982-fab6b1a4ab54"
      },
      "execution_count": null,
      "outputs": [
        {
          "output_type": "execute_result",
          "data": {
            "text/plain": [
              "array([1, 2, 1, 2, 1])"
            ]
          },
          "metadata": {},
          "execution_count": 8
        }
      ]
    },
    {
      "cell_type": "code",
      "source": [
        "prices"
      ],
      "metadata": {
        "colab": {
          "base_uri": "https://localhost:8080/"
        },
        "id": "C9cUHnrcEEAI",
        "outputId": "78bc420c-1462-41e2-f892-9be726b9c848"
      },
      "execution_count": null,
      "outputs": [
        {
          "output_type": "execute_result",
          "data": {
            "text/plain": [
              "array([50000,   500,  1000,  7000,  2000])"
            ]
          },
          "metadata": {},
          "execution_count": 9
        }
      ]
    },
    {
      "cell_type": "code",
      "source": [
        "totals"
      ],
      "metadata": {
        "colab": {
          "base_uri": "https://localhost:8080/"
        },
        "id": "gHhARshPEQK5",
        "outputId": "d7477bbc-1f51-4cf9-e36c-0e44e96d8e90"
      },
      "execution_count": null,
      "outputs": [
        {
          "output_type": "execute_result",
          "data": {
            "text/plain": [
              "array([50000,  1000,  1000, 14000,  2000])"
            ]
          },
          "metadata": {},
          "execution_count": 10
        }
      ]
    },
    {
      "cell_type": "code",
      "source": [
        "customer_ids1 = retail_np_array[:, 0]\n",
        "customer_ids1"
      ],
      "metadata": {
        "colab": {
          "base_uri": "https://localhost:8080/"
        },
        "id": "9wM1va70Ed4y",
        "outputId": "8c3ec479-42e7-471b-e1c5-3a8387f93191"
      },
      "execution_count": null,
      "outputs": [
        {
          "output_type": "execute_result",
          "data": {
            "text/plain": [
              "array([1001, 1002, 1003, 1004, 1005], dtype=object)"
            ]
          },
          "metadata": {},
          "execution_count": 18
        }
      ]
    },
    {
      "cell_type": "code",
      "source": [
        "retail_np_array.shape # returns the shape like rows and coloumns"
      ],
      "metadata": {
        "colab": {
          "base_uri": "https://localhost:8080/"
        },
        "id": "FDSaJIa8E496",
        "outputId": "b4542d72-acd6-4cfa-c1af-7a79300d42ab"
      },
      "execution_count": null,
      "outputs": [
        {
          "output_type": "execute_result",
          "data": {
            "text/plain": [
              "(5, 5)"
            ]
          },
          "metadata": {},
          "execution_count": 21
        }
      ]
    },
    {
      "cell_type": "code",
      "source": [
        "print(\"1. Total number of transactions: \",retail_np_array.shape[0])"
      ],
      "metadata": {
        "colab": {
          "base_uri": "https://localhost:8080/"
        },
        "id": "cQRTZGA5Gp_s",
        "outputId": "1fc4841b-41f9-453d-ac82-d1cc9cf6bf88"
      },
      "execution_count": null,
      "outputs": [
        {
          "output_type": "stream",
          "name": "stdout",
          "text": [
            "1. Total number of transactions:  5\n"
          ]
        }
      ]
    },
    {
      "cell_type": "code",
      "source": [
        "print(\"2. Total revenue generated: \",np.sum(totals))"
      ],
      "metadata": {
        "colab": {
          "base_uri": "https://localhost:8080/"
        },
        "id": "CS0KftBzIXoA",
        "outputId": "81916b6b-a727-419b-b44c-592e17dab982"
      },
      "execution_count": null,
      "outputs": [
        {
          "output_type": "stream",
          "name": "stdout",
          "text": [
            "2. Total revenue generated:  68000\n"
          ]
        }
      ]
    },
    {
      "cell_type": "code",
      "source": [
        "print(\"3. Average order value: \",np.mean(totals))"
      ],
      "metadata": {
        "colab": {
          "base_uri": "https://localhost:8080/"
        },
        "id": "52i3e2b8Iwlz",
        "outputId": "6cf11483-e418-45fd-cbbb-d86f90df6ab1"
      },
      "execution_count": null,
      "outputs": [
        {
          "output_type": "stream",
          "name": "stdout",
          "text": [
            "3. Average order value:  13600.0\n"
          ]
        }
      ]
    },
    {
      "cell_type": "code",
      "source": [
        "print(\"4. Product with the highest total price: \",products [np.argmax(totals)])"
      ],
      "metadata": {
        "colab": {
          "base_uri": "https://localhost:8080/"
        },
        "id": "HgrzlQ-3I7lo",
        "outputId": "a169671a-2bb4-4811-ba71-38d24807b614"
      },
      "execution_count": null,
      "outputs": [
        {
          "output_type": "stream",
          "name": "stdout",
          "text": [
            "4. Product with the highest total price:  Laptop\n"
          ]
        }
      ]
    },
    {
      "cell_type": "code",
      "source": [
        "print(\"5. Product with the lowest total price: \",products [np.argmin(totals)])"
      ],
      "metadata": {
        "colab": {
          "base_uri": "https://localhost:8080/"
        },
        "id": "4dBEtwXQJFI7",
        "outputId": "0a3311a7-31d4-445e-ea28-fc8a1149a497"
      },
      "execution_count": null,
      "outputs": [
        {
          "output_type": "stream",
          "name": "stdout",
          "text": [
            "5. Product with the lowest total price:  Mouse\n"
          ]
        }
      ]
    },
    {
      "cell_type": "code",
      "source": [
        "print(\"6. Average price of products: \",np.mean (prices))"
      ],
      "metadata": {
        "colab": {
          "base_uri": "https://localhost:8080/"
        },
        "id": "edFx9cKpJ4s9",
        "outputId": "70e3f373-837c-426c-af6d-08d6366b051a"
      },
      "execution_count": null,
      "outputs": [
        {
          "output_type": "stream",
          "name": "stdout",
          "text": [
            "6. Average price of products:  12100.0\n"
          ]
        }
      ]
    },
    {
      "cell_type": "code",
      "source": [
        "print(\"7. Total quantity sold: \",np.sum (quantities),)"
      ],
      "metadata": {
        "colab": {
          "base_uri": "https://localhost:8080/"
        },
        "id": "PMIwrCydKnVl",
        "outputId": "9017826b-ed4a-46c2-c59f-a7b714a62b27"
      },
      "execution_count": null,
      "outputs": [
        {
          "output_type": "stream",
          "name": "stdout",
          "text": [
            "7. Total quantity sold:  7\n"
          ]
        }
      ]
    },
    {
      "cell_type": "code",
      "source": [
        "print(\"8. Most frequently purchased product: \",np.unique(products, return_counts=True)[0][np.argmax(np.unique(products, return_counts=True)[1])])"
      ],
      "metadata": {
        "colab": {
          "base_uri": "https://localhost:8080/"
        },
        "id": "umhVlXg9K2Zt",
        "outputId": "fd218abe-9878-44c1-d30c-ba77a89e2afe"
      },
      "execution_count": null,
      "outputs": [
        {
          "output_type": "stream",
          "name": "stdout",
          "text": [
            "8. Most frequently purchased product:  Headphones\n"
          ]
        }
      ]
    },
    {
      "cell_type": "code",
      "source": [
        "print(\"9. Number of unique products : \",len (np.unique (products)),)"
      ],
      "metadata": {
        "colab": {
          "base_uri": "https://localhost:8080/"
        },
        "id": "SU0yVOttLJLB",
        "outputId": "b94c59aa-8479-49a0-f8fd-8e12db6dbc12"
      },
      "execution_count": null,
      "outputs": [
        {
          "output_type": "stream",
          "name": "stdout",
          "text": [
            "9. Number of unique products :  5\n"
          ]
        }
      ]
    },
    {
      "cell_type": "code",
      "source": [],
      "metadata": {
        "id": "s1ScjlM9MYsq"
      },
      "execution_count": null,
      "outputs": []
    }
  ]
}